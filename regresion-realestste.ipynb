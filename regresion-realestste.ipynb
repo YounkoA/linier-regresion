{
 "cells": [
  {
   "cell_type": "code",
   "execution_count": 1,
   "id": "a4b3e871",
   "metadata": {
    "_cell_guid": "b1076dfc-b9ad-4769-8c92-a6c4dae69d19",
    "_uuid": "8f2839f25d086af736a60e9eeb907d3b93b6e0e5",
    "execution": {
     "iopub.execute_input": "2022-02-12T06:06:32.672837Z",
     "iopub.status.busy": "2022-02-12T06:06:32.672159Z",
     "iopub.status.idle": "2022-02-12T06:06:32.682935Z",
     "shell.execute_reply": "2022-02-12T06:06:32.683442Z",
     "shell.execute_reply.started": "2022-02-12T05:31:58.665021Z"
    },
    "papermill": {
     "duration": 0.040827,
     "end_time": "2022-02-12T06:06:32.683722",
     "exception": false,
     "start_time": "2022-02-12T06:06:32.642895",
     "status": "completed"
    },
    "tags": []
   },
   "outputs": [
    {
     "name": "stdout",
     "output_type": "stream",
     "text": [
      "/kaggle/input/real-estate-price-prediction/Real estate.csv\n"
     ]
    }
   ],
   "source": [
    "import numpy as np # linear algebra\n",
    "import pandas as pd # data processing, CSV file I/O (e.g. pd.read_csv)\n",
    "\n",
    "import os\n",
    "for dirname, _, filenames in os.walk('/kaggle/input'):\n",
    "    for filename in filenames:\n",
    "        print(os.path.join(dirname, filename))"
   ]
  },
  {
   "cell_type": "code",
   "execution_count": 2,
   "id": "34cc88ea",
   "metadata": {
    "execution": {
     "iopub.execute_input": "2022-02-12T06:06:32.726655Z",
     "iopub.status.busy": "2022-02-12T06:06:32.725823Z",
     "iopub.status.idle": "2022-02-12T06:06:32.758034Z",
     "shell.execute_reply": "2022-02-12T06:06:32.758563Z",
     "shell.execute_reply.started": "2022-02-12T05:34:50.898503Z"
    },
    "papermill": {
     "duration": 0.055159,
     "end_time": "2022-02-12T06:06:32.758737",
     "exception": false,
     "start_time": "2022-02-12T06:06:32.703578",
     "status": "completed"
    },
    "tags": []
   },
   "outputs": [
    {
     "data": {
      "text/html": [
       "<div>\n",
       "<style scoped>\n",
       "    .dataframe tbody tr th:only-of-type {\n",
       "        vertical-align: middle;\n",
       "    }\n",
       "\n",
       "    .dataframe tbody tr th {\n",
       "        vertical-align: top;\n",
       "    }\n",
       "\n",
       "    .dataframe thead th {\n",
       "        text-align: right;\n",
       "    }\n",
       "</style>\n",
       "<table border=\"1\" class=\"dataframe\">\n",
       "  <thead>\n",
       "    <tr style=\"text-align: right;\">\n",
       "      <th></th>\n",
       "      <th>No</th>\n",
       "      <th>X1 transaction date</th>\n",
       "      <th>X2 house age</th>\n",
       "      <th>X3 distance to the nearest MRT station</th>\n",
       "      <th>X4 number of convenience stores</th>\n",
       "      <th>X5 latitude</th>\n",
       "      <th>X6 longitude</th>\n",
       "      <th>Y house price of unit area</th>\n",
       "    </tr>\n",
       "  </thead>\n",
       "  <tbody>\n",
       "    <tr>\n",
       "      <th>0</th>\n",
       "      <td>1</td>\n",
       "      <td>2012.917</td>\n",
       "      <td>32.0</td>\n",
       "      <td>84.87882</td>\n",
       "      <td>10</td>\n",
       "      <td>24.98298</td>\n",
       "      <td>121.54024</td>\n",
       "      <td>37.9</td>\n",
       "    </tr>\n",
       "    <tr>\n",
       "      <th>1</th>\n",
       "      <td>2</td>\n",
       "      <td>2012.917</td>\n",
       "      <td>19.5</td>\n",
       "      <td>306.59470</td>\n",
       "      <td>9</td>\n",
       "      <td>24.98034</td>\n",
       "      <td>121.53951</td>\n",
       "      <td>42.2</td>\n",
       "    </tr>\n",
       "    <tr>\n",
       "      <th>2</th>\n",
       "      <td>3</td>\n",
       "      <td>2013.583</td>\n",
       "      <td>13.3</td>\n",
       "      <td>561.98450</td>\n",
       "      <td>5</td>\n",
       "      <td>24.98746</td>\n",
       "      <td>121.54391</td>\n",
       "      <td>47.3</td>\n",
       "    </tr>\n",
       "    <tr>\n",
       "      <th>3</th>\n",
       "      <td>4</td>\n",
       "      <td>2013.500</td>\n",
       "      <td>13.3</td>\n",
       "      <td>561.98450</td>\n",
       "      <td>5</td>\n",
       "      <td>24.98746</td>\n",
       "      <td>121.54391</td>\n",
       "      <td>54.8</td>\n",
       "    </tr>\n",
       "    <tr>\n",
       "      <th>4</th>\n",
       "      <td>5</td>\n",
       "      <td>2012.833</td>\n",
       "      <td>5.0</td>\n",
       "      <td>390.56840</td>\n",
       "      <td>5</td>\n",
       "      <td>24.97937</td>\n",
       "      <td>121.54245</td>\n",
       "      <td>43.1</td>\n",
       "    </tr>\n",
       "  </tbody>\n",
       "</table>\n",
       "</div>"
      ],
      "text/plain": [
       "   No  X1 transaction date  X2 house age  \\\n",
       "0   1             2012.917          32.0   \n",
       "1   2             2012.917          19.5   \n",
       "2   3             2013.583          13.3   \n",
       "3   4             2013.500          13.3   \n",
       "4   5             2012.833           5.0   \n",
       "\n",
       "   X3 distance to the nearest MRT station  X4 number of convenience stores  \\\n",
       "0                                84.87882                               10   \n",
       "1                               306.59470                                9   \n",
       "2                               561.98450                                5   \n",
       "3                               561.98450                                5   \n",
       "4                               390.56840                                5   \n",
       "\n",
       "   X5 latitude  X6 longitude  Y house price of unit area  \n",
       "0     24.98298     121.54024                        37.9  \n",
       "1     24.98034     121.53951                        42.2  \n",
       "2     24.98746     121.54391                        47.3  \n",
       "3     24.98746     121.54391                        54.8  \n",
       "4     24.97937     121.54245                        43.1  "
      ]
     },
     "execution_count": 2,
     "metadata": {},
     "output_type": "execute_result"
    }
   ],
   "source": [
    "data = pd.read_csv('/kaggle/input/real-estate-price-prediction/Real estate.csv')\n",
    "data.head()"
   ]
  },
  {
   "cell_type": "code",
   "execution_count": 3,
   "id": "5022c31c",
   "metadata": {
    "execution": {
     "iopub.execute_input": "2022-02-12T06:06:32.800320Z",
     "iopub.status.busy": "2022-02-12T06:06:32.799648Z",
     "iopub.status.idle": "2022-02-12T06:06:32.808991Z",
     "shell.execute_reply": "2022-02-12T06:06:32.809539Z",
     "shell.execute_reply.started": "2022-02-12T05:35:35.670548Z"
    },
    "papermill": {
     "duration": 0.031819,
     "end_time": "2022-02-12T06:06:32.809716",
     "exception": false,
     "start_time": "2022-02-12T06:06:32.777897",
     "status": "completed"
    },
    "tags": []
   },
   "outputs": [],
   "source": [
    "data = data.dropna()"
   ]
  },
  {
   "cell_type": "code",
   "execution_count": 4,
   "id": "b3156ebf",
   "metadata": {
    "execution": {
     "iopub.execute_input": "2022-02-12T06:06:32.851256Z",
     "iopub.status.busy": "2022-02-12T06:06:32.850562Z",
     "iopub.status.idle": "2022-02-12T06:06:32.855825Z",
     "shell.execute_reply": "2022-02-12T06:06:32.856251Z",
     "shell.execute_reply.started": "2022-02-12T05:41:52.207774Z"
    },
    "papermill": {
     "duration": 0.027468,
     "end_time": "2022-02-12T06:06:32.856451",
     "exception": false,
     "start_time": "2022-02-12T06:06:32.828983",
     "status": "completed"
    },
    "tags": []
   },
   "outputs": [
    {
     "name": "stdout",
     "output_type": "stream",
     "text": [
      "['No', 'X3 distance to the nearest MRT station', 'X4 number of convenience stores', 'Y house price of unit area']\n"
     ]
    }
   ],
   "source": [
    "column = list(data.columns)\n",
    "column\n",
    "\n",
    "column.remove('X1 transaction date')\n",
    "column.remove('X2 house age')\n",
    "column.remove('X5 latitude')\n",
    "column.remove('X6 longitude')\n",
    "\n",
    "print(column)"
   ]
  },
  {
   "cell_type": "code",
   "execution_count": 5,
   "id": "a1a6f918",
   "metadata": {
    "execution": {
     "iopub.execute_input": "2022-02-12T06:06:32.909431Z",
     "iopub.status.busy": "2022-02-12T06:06:32.908748Z",
     "iopub.status.idle": "2022-02-12T06:06:32.912289Z",
     "shell.execute_reply": "2022-02-12T06:06:32.911795Z",
     "shell.execute_reply.started": "2022-02-12T05:42:14.605135Z"
    },
    "papermill": {
     "duration": 0.036806,
     "end_time": "2022-02-12T06:06:32.912448",
     "exception": false,
     "start_time": "2022-02-12T06:06:32.875642",
     "status": "completed"
    },
    "tags": []
   },
   "outputs": [
    {
     "data": {
      "text/html": [
       "<div>\n",
       "<style scoped>\n",
       "    .dataframe tbody tr th:only-of-type {\n",
       "        vertical-align: middle;\n",
       "    }\n",
       "\n",
       "    .dataframe tbody tr th {\n",
       "        vertical-align: top;\n",
       "    }\n",
       "\n",
       "    .dataframe thead th {\n",
       "        text-align: right;\n",
       "    }\n",
       "</style>\n",
       "<table border=\"1\" class=\"dataframe\">\n",
       "  <thead>\n",
       "    <tr style=\"text-align: right;\">\n",
       "      <th></th>\n",
       "      <th>No</th>\n",
       "      <th>X3 distance to the nearest MRT station</th>\n",
       "      <th>X4 number of convenience stores</th>\n",
       "      <th>Y house price of unit area</th>\n",
       "    </tr>\n",
       "  </thead>\n",
       "  <tbody>\n",
       "    <tr>\n",
       "      <th>0</th>\n",
       "      <td>1</td>\n",
       "      <td>84.87882</td>\n",
       "      <td>10</td>\n",
       "      <td>37.9</td>\n",
       "    </tr>\n",
       "    <tr>\n",
       "      <th>1</th>\n",
       "      <td>2</td>\n",
       "      <td>306.59470</td>\n",
       "      <td>9</td>\n",
       "      <td>42.2</td>\n",
       "    </tr>\n",
       "    <tr>\n",
       "      <th>2</th>\n",
       "      <td>3</td>\n",
       "      <td>561.98450</td>\n",
       "      <td>5</td>\n",
       "      <td>47.3</td>\n",
       "    </tr>\n",
       "    <tr>\n",
       "      <th>3</th>\n",
       "      <td>4</td>\n",
       "      <td>561.98450</td>\n",
       "      <td>5</td>\n",
       "      <td>54.8</td>\n",
       "    </tr>\n",
       "    <tr>\n",
       "      <th>4</th>\n",
       "      <td>5</td>\n",
       "      <td>390.56840</td>\n",
       "      <td>5</td>\n",
       "      <td>43.1</td>\n",
       "    </tr>\n",
       "  </tbody>\n",
       "</table>\n",
       "</div>"
      ],
      "text/plain": [
       "   No  X3 distance to the nearest MRT station  \\\n",
       "0   1                                84.87882   \n",
       "1   2                               306.59470   \n",
       "2   3                               561.98450   \n",
       "3   4                               561.98450   \n",
       "4   5                               390.56840   \n",
       "\n",
       "   X4 number of convenience stores  Y house price of unit area  \n",
       "0                               10                        37.9  \n",
       "1                                9                        42.2  \n",
       "2                                5                        47.3  \n",
       "3                                5                        54.8  \n",
       "4                                5                        43.1  "
      ]
     },
     "execution_count": 5,
     "metadata": {},
     "output_type": "execute_result"
    }
   ],
   "source": [
    "X = data[column]\n",
    "X.head()"
   ]
  },
  {
   "cell_type": "code",
   "execution_count": 6,
   "id": "cf2f65ee",
   "metadata": {
    "execution": {
     "iopub.execute_input": "2022-02-12T06:06:32.966340Z",
     "iopub.status.busy": "2022-02-12T06:06:32.960508Z",
     "iopub.status.idle": "2022-02-12T06:06:32.971108Z",
     "shell.execute_reply": "2022-02-12T06:06:32.971898Z",
     "shell.execute_reply.started": "2022-02-12T05:49:18.805817Z"
    },
    "papermill": {
     "duration": 0.039642,
     "end_time": "2022-02-12T06:06:32.972122",
     "exception": false,
     "start_time": "2022-02-12T06:06:32.932480",
     "status": "completed"
    },
    "tags": []
   },
   "outputs": [
    {
     "data": {
      "text/plain": [
       "0    37.9\n",
       "1    42.2\n",
       "2    47.3\n",
       "3    54.8\n",
       "4    43.1\n",
       "Name: Y house price of unit area, dtype: float64"
      ]
     },
     "execution_count": 6,
     "metadata": {},
     "output_type": "execute_result"
    }
   ],
   "source": [
    "Y = data['Y house price of unit area']\n",
    "Y.head()"
   ]
  },
  {
   "cell_type": "code",
   "execution_count": 7,
   "id": "2a96d6fb",
   "metadata": {
    "execution": {
     "iopub.execute_input": "2022-02-12T06:06:33.034344Z",
     "iopub.status.busy": "2022-02-12T06:06:33.033582Z",
     "iopub.status.idle": "2022-02-12T06:06:34.113238Z",
     "shell.execute_reply": "2022-02-12T06:06:34.112697Z",
     "shell.execute_reply.started": "2022-02-12T05:43:46.177794Z"
    },
    "papermill": {
     "duration": 1.112768,
     "end_time": "2022-02-12T06:06:34.113406",
     "exception": false,
     "start_time": "2022-02-12T06:06:33.000638",
     "status": "completed"
    },
    "tags": []
   },
   "outputs": [],
   "source": [
    "from sklearn.model_selection import train_test_split\n",
    "from sklearn.linear_model import LinearRegression\n",
    "import sklearn.metrics as metrics"
   ]
  },
  {
   "cell_type": "code",
   "execution_count": 8,
   "id": "d92267d6",
   "metadata": {
    "execution": {
     "iopub.execute_input": "2022-02-12T06:06:34.161230Z",
     "iopub.status.busy": "2022-02-12T06:06:34.160398Z",
     "iopub.status.idle": "2022-02-12T06:06:34.162791Z",
     "shell.execute_reply": "2022-02-12T06:06:34.163373Z",
     "shell.execute_reply.started": "2022-02-12T05:49:37.085966Z"
    },
    "papermill": {
     "duration": 0.030049,
     "end_time": "2022-02-12T06:06:34.163531",
     "exception": false,
     "start_time": "2022-02-12T06:06:34.133482",
     "status": "completed"
    },
    "tags": []
   },
   "outputs": [],
   "source": [
    "train_x, test_x, train_y, test_y = train_test_split(X,Y,test_size=0.2,random_state=42)"
   ]
  },
  {
   "cell_type": "code",
   "execution_count": 9,
   "id": "fa78dd4f",
   "metadata": {
    "execution": {
     "iopub.execute_input": "2022-02-12T06:06:34.207493Z",
     "iopub.status.busy": "2022-02-12T06:06:34.206592Z",
     "iopub.status.idle": "2022-02-12T06:06:34.217187Z",
     "shell.execute_reply": "2022-02-12T06:06:34.217813Z",
     "shell.execute_reply.started": "2022-02-12T05:49:40.232841Z"
    },
    "papermill": {
     "duration": 0.034284,
     "end_time": "2022-02-12T06:06:34.217980",
     "exception": false,
     "start_time": "2022-02-12T06:06:34.183696",
     "status": "completed"
    },
    "tags": []
   },
   "outputs": [
    {
     "data": {
      "text/html": [
       "<div>\n",
       "<style scoped>\n",
       "    .dataframe tbody tr th:only-of-type {\n",
       "        vertical-align: middle;\n",
       "    }\n",
       "\n",
       "    .dataframe tbody tr th {\n",
       "        vertical-align: top;\n",
       "    }\n",
       "\n",
       "    .dataframe thead th {\n",
       "        text-align: right;\n",
       "    }\n",
       "</style>\n",
       "<table border=\"1\" class=\"dataframe\">\n",
       "  <thead>\n",
       "    <tr style=\"text-align: right;\">\n",
       "      <th></th>\n",
       "      <th>No</th>\n",
       "      <th>X3 distance to the nearest MRT station</th>\n",
       "      <th>X4 number of convenience stores</th>\n",
       "      <th>Y house price of unit area</th>\n",
       "    </tr>\n",
       "  </thead>\n",
       "  <tbody>\n",
       "    <tr>\n",
       "      <th>192</th>\n",
       "      <td>193</td>\n",
       "      <td>57.58945</td>\n",
       "      <td>7</td>\n",
       "      <td>42.7</td>\n",
       "    </tr>\n",
       "    <tr>\n",
       "      <th>234</th>\n",
       "      <td>235</td>\n",
       "      <td>2216.61200</td>\n",
       "      <td>4</td>\n",
       "      <td>23.9</td>\n",
       "    </tr>\n",
       "    <tr>\n",
       "      <th>5</th>\n",
       "      <td>6</td>\n",
       "      <td>2175.03000</td>\n",
       "      <td>3</td>\n",
       "      <td>32.1</td>\n",
       "    </tr>\n",
       "    <tr>\n",
       "      <th>45</th>\n",
       "      <td>46</td>\n",
       "      <td>488.81930</td>\n",
       "      <td>8</td>\n",
       "      <td>38.3</td>\n",
       "    </tr>\n",
       "    <tr>\n",
       "      <th>245</th>\n",
       "      <td>246</td>\n",
       "      <td>639.61980</td>\n",
       "      <td>5</td>\n",
       "      <td>40.8</td>\n",
       "    </tr>\n",
       "  </tbody>\n",
       "</table>\n",
       "</div>"
      ],
      "text/plain": [
       "      No  X3 distance to the nearest MRT station  \\\n",
       "192  193                                57.58945   \n",
       "234  235                              2216.61200   \n",
       "5      6                              2175.03000   \n",
       "45    46                               488.81930   \n",
       "245  246                               639.61980   \n",
       "\n",
       "     X4 number of convenience stores  Y house price of unit area  \n",
       "192                                7                        42.7  \n",
       "234                                4                        23.9  \n",
       "5                                  3                        32.1  \n",
       "45                                 8                        38.3  \n",
       "245                                5                        40.8  "
      ]
     },
     "execution_count": 9,
     "metadata": {},
     "output_type": "execute_result"
    }
   ],
   "source": [
    "train_x.head()"
   ]
  },
  {
   "cell_type": "code",
   "execution_count": 10,
   "id": "738a8b6a",
   "metadata": {
    "execution": {
     "iopub.execute_input": "2022-02-12T06:06:34.262992Z",
     "iopub.status.busy": "2022-02-12T06:06:34.262029Z",
     "iopub.status.idle": "2022-02-12T06:06:34.287264Z",
     "shell.execute_reply": "2022-02-12T06:06:34.287812Z",
     "shell.execute_reply.started": "2022-02-12T05:49:45.692428Z"
    },
    "papermill": {
     "duration": 0.049479,
     "end_time": "2022-02-12T06:06:34.287978",
     "exception": false,
     "start_time": "2022-02-12T06:06:34.238499",
     "status": "completed"
    },
    "tags": []
   },
   "outputs": [
    {
     "data": {
      "text/plain": [
       "LinearRegression()"
      ]
     },
     "execution_count": 10,
     "metadata": {},
     "output_type": "execute_result"
    }
   ],
   "source": [
    "lr = LinearRegression()\n",
    "lr.fit(train_x, train_y)"
   ]
  },
  {
   "cell_type": "code",
   "execution_count": 11,
   "id": "13f194b9",
   "metadata": {
    "execution": {
     "iopub.execute_input": "2022-02-12T06:06:34.333357Z",
     "iopub.status.busy": "2022-02-12T06:06:34.332752Z",
     "iopub.status.idle": "2022-02-12T06:06:34.337670Z",
     "shell.execute_reply": "2022-02-12T06:06:34.338231Z",
     "shell.execute_reply.started": "2022-02-12T05:49:49.264594Z"
    },
    "papermill": {
     "duration": 0.029197,
     "end_time": "2022-02-12T06:06:34.338403",
     "exception": false,
     "start_time": "2022-02-12T06:06:34.309206",
     "status": "completed"
    },
    "tags": []
   },
   "outputs": [],
   "source": [
    "pred_y = lr.predict(test_x)"
   ]
  },
  {
   "cell_type": "code",
   "execution_count": 12,
   "id": "df894fcb",
   "metadata": {
    "execution": {
     "iopub.execute_input": "2022-02-12T06:06:34.383525Z",
     "iopub.status.busy": "2022-02-12T06:06:34.382899Z",
     "iopub.status.idle": "2022-02-12T06:06:34.389689Z",
     "shell.execute_reply": "2022-02-12T06:06:34.390179Z",
     "shell.execute_reply.started": "2022-02-12T05:49:57.721788Z"
    },
    "papermill": {
     "duration": 0.030911,
     "end_time": "2022-02-12T06:06:34.390363",
     "exception": false,
     "start_time": "2022-02-12T06:06:34.359452",
     "status": "completed"
    },
    "tags": []
   },
   "outputs": [
    {
     "name": "stdout",
     "output_type": "stream",
     "text": [
      "The first five prediction [45.1 42.3 52.2 37.3 22.8]\n",
      "The real first five labels 358    45.1\n",
      "350    42.3\n",
      "373    52.2\n",
      "399    37.3\n",
      "369    22.8\n",
      "Name: Y house price of unit area, dtype: float64\n"
     ]
    }
   ],
   "source": [
    "print(\"The first five prediction {}\".format(pred_y[:5]))\n",
    "print(\"The real first five labels {}\".format(test_y[:5]))"
   ]
  },
  {
   "cell_type": "code",
   "execution_count": 13,
   "id": "aa4bc25a",
   "metadata": {
    "execution": {
     "iopub.execute_input": "2022-02-12T06:06:34.439615Z",
     "iopub.status.busy": "2022-02-12T06:06:34.438936Z",
     "iopub.status.idle": "2022-02-12T06:06:34.441893Z",
     "shell.execute_reply": "2022-02-12T06:06:34.442431Z",
     "shell.execute_reply.started": "2022-02-12T05:50:12.635478Z"
    },
    "papermill": {
     "duration": 0.030933,
     "end_time": "2022-02-12T06:06:34.442588",
     "exception": false,
     "start_time": "2022-02-12T06:06:34.411655",
     "status": "completed"
    },
    "tags": []
   },
   "outputs": [
    {
     "name": "stdout",
     "output_type": "stream",
     "text": [
      "Mean Squared Error 6.099753847877232e-26\n"
     ]
    }
   ],
   "source": [
    "mse = metrics.mean_squared_error(test_y, pred_y)\n",
    "print(\"Mean Squared Error {}\".format(mse))"
   ]
  },
  {
   "cell_type": "code",
   "execution_count": 14,
   "id": "b0dddd89",
   "metadata": {
    "execution": {
     "iopub.execute_input": "2022-02-12T06:06:34.492068Z",
     "iopub.status.busy": "2022-02-12T06:06:34.491286Z",
     "iopub.status.idle": "2022-02-12T06:06:34.494081Z",
     "shell.execute_reply": "2022-02-12T06:06:34.493558Z",
     "shell.execute_reply.started": "2022-02-12T05:50:20.620974Z"
    },
    "papermill": {
     "duration": 0.028317,
     "end_time": "2022-02-12T06:06:34.494211",
     "exception": false,
     "start_time": "2022-02-12T06:06:34.465894",
     "status": "completed"
    },
    "tags": []
   },
   "outputs": [],
   "source": [
    "from sklearn.preprocessing import StandardScaler\n",
    "scaler = StandardScaler()"
   ]
  },
  {
   "cell_type": "code",
   "execution_count": 15,
   "id": "7b0bf788",
   "metadata": {
    "execution": {
     "iopub.execute_input": "2022-02-12T06:06:34.541580Z",
     "iopub.status.busy": "2022-02-12T06:06:34.540967Z",
     "iopub.status.idle": "2022-02-12T06:06:34.548859Z",
     "shell.execute_reply": "2022-02-12T06:06:34.548369Z",
     "shell.execute_reply.started": "2022-02-12T05:50:24.628699Z"
    },
    "papermill": {
     "duration": 0.032689,
     "end_time": "2022-02-12T06:06:34.548992",
     "exception": false,
     "start_time": "2022-02-12T06:06:34.516303",
     "status": "completed"
    },
    "tags": []
   },
   "outputs": [],
   "source": [
    "X2 = scaler.fit_transform(X)"
   ]
  },
  {
   "cell_type": "code",
   "execution_count": 16,
   "id": "0d0031f9",
   "metadata": {
    "execution": {
     "iopub.execute_input": "2022-02-12T06:06:34.600022Z",
     "iopub.status.busy": "2022-02-12T06:06:34.599406Z",
     "iopub.status.idle": "2022-02-12T06:06:34.602114Z",
     "shell.execute_reply": "2022-02-12T06:06:34.601635Z",
     "shell.execute_reply.started": "2022-02-12T05:50:28.279122Z"
    },
    "papermill": {
     "duration": 0.031093,
     "end_time": "2022-02-12T06:06:34.602242",
     "exception": false,
     "start_time": "2022-02-12T06:06:34.571149",
     "status": "completed"
    },
    "tags": []
   },
   "outputs": [],
   "source": [
    "train_x2, test_x2, train_y2, test_y2 = train_test_split(X2,Y,test_size=0.2,random_state=42)"
   ]
  },
  {
   "cell_type": "code",
   "execution_count": 17,
   "id": "083996d7",
   "metadata": {
    "execution": {
     "iopub.execute_input": "2022-02-12T06:06:34.653643Z",
     "iopub.status.busy": "2022-02-12T06:06:34.652984Z",
     "iopub.status.idle": "2022-02-12T06:06:34.656726Z",
     "shell.execute_reply": "2022-02-12T06:06:34.657168Z",
     "shell.execute_reply.started": "2022-02-12T05:50:32.041793Z"
    },
    "papermill": {
     "duration": 0.033379,
     "end_time": "2022-02-12T06:06:34.657349",
     "exception": false,
     "start_time": "2022-02-12T06:06:34.623970",
     "status": "completed"
    },
    "tags": []
   },
   "outputs": [
    {
     "name": "stdout",
     "output_type": "stream",
     "text": [
      "Mean Squared Error 3.7781685185958626e-28\n"
     ]
    }
   ],
   "source": [
    "lr2 = LinearRegression()\n",
    "lr2.fit(train_x2, train_y2)\n",
    "pred_y2 = lr2.predict(test_x2)\n",
    "mse2 = metrics.mean_squared_error(test_y2, pred_y2)\n",
    "print(\"Mean Squared Error {}\".format(mse2))"
   ]
  }
 ],
 "metadata": {
  "kernelspec": {
   "display_name": "Python 3",
   "language": "python",
   "name": "python3"
  },
  "language_info": {
   "codemirror_mode": {
    "name": "ipython",
    "version": 3
   },
   "file_extension": ".py",
   "mimetype": "text/x-python",
   "name": "python",
   "nbconvert_exporter": "python",
   "pygments_lexer": "ipython3",
   "version": "3.7.12"
  },
  "papermill": {
   "default_parameters": {},
   "duration": 12.08773,
   "end_time": "2022-02-12T06:06:35.388737",
   "environment_variables": {},
   "exception": null,
   "input_path": "__notebook__.ipynb",
   "output_path": "__notebook__.ipynb",
   "parameters": {},
   "start_time": "2022-02-12T06:06:23.301007",
   "version": "2.3.3"
  }
 },
 "nbformat": 4,
 "nbformat_minor": 5
}
